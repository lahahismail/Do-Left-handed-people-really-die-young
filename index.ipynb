{
 "cells": [
  {
   "cell_type": "markdown",
   "metadata": {},
   "source": [
    "# Lahah Ismail\n",
    "# Do Left-handed people really die young"
   ]
  },
  {
   "cell_type": "markdown",
   "metadata": {},
   "source": []
  }
 ],
 "metadata": {
  "kernelspec": {
   "display_name": "Python 3.9.13 ('base')",
   "language": "python",
   "name": "python3"
  },
  "language_info": {
   "name": "python",
   "version": "3.9.13"
  },
  "orig_nbformat": 4,
  "vscode": {
   "interpreter": {
    "hash": "1dc7ce9ce4e8dd0697260e0c2b16d414eae9157d2aa03e312657fc70da68e57a"
   }
  }
 },
 "nbformat": 4,
 "nbformat_minor": 2
}
